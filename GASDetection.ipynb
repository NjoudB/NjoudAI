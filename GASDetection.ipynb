{
  "cells": [
    {
      "cell_type": "markdown",
      "metadata": {
        "id": "iMvN6LxxwXCQ"
      },
      "source": [
        "# 1. Data Preprocessing"
      ]
    },
    {
      "cell_type": "code",
      "execution_count": null,
      "metadata": {
        "colab": {
          "base_uri": "https://localhost:8080/"
        },
        "id": "3IfxHrRCvHN2",
        "outputId": "74cc1e22-b836-453c-ee78-d290edbcff6b"
      },
      "outputs": [
        {
          "name": "stdout",
          "output_type": "stream",
          "text": [
            "Python 3.10.11\n"
          ]
        }
      ],
      "source": [
        "!python --version"
      ]
    },
    {
      "cell_type": "code",
      "execution_count": null,
      "metadata": {
        "colab": {
          "base_uri": "https://localhost:8080/",
          "height": 36
        },
        "id": "81DQ0KR3vT17",
        "outputId": "5b3396d0-a2a7-421d-b0d1-f09eb4ac2e27"
      },
      "outputs": [
        {
          "data": {
            "application/vnd.google.colaboratory.intrinsic+json": {
              "type": "string"
            },
            "text/plain": [
              "'1.2.2'"
            ]
          },
          "execution_count": 2,
          "metadata": {},
          "output_type": "execute_result"
        }
      ],
      "source": [
        "import sklearn\n",
        "sklearn.__version__"
      ]
    },
    {
      "cell_type": "code",
      "execution_count": null,
      "metadata": {
        "colab": {
          "base_uri": "https://localhost:8080/",
          "height": 36
        },
        "id": "cgj-a7c8vvkE",
        "outputId": "8af4850d-75fa-473d-9bab-8e19ecc99dbb"
      },
      "outputs": [
        {
          "data": {
            "application/vnd.google.colaboratory.intrinsic+json": {
              "type": "string"
            },
            "text/plain": [
              "'4.7.0'"
            ]
          },
          "execution_count": 3,
          "metadata": {},
          "output_type": "execute_result"
        }
      ],
      "source": [
        "import cv2\n",
        "cv2.__version__"
      ]
    },
    {
      "cell_type": "code",
      "execution_count": null,
      "metadata": {
        "colab": {
          "base_uri": "https://localhost:8080/",
          "height": 36
        },
        "id": "YwUsHpeTv-Da",
        "outputId": "fcb019f6-0c36-46b2-9fe4-96b4a05fa02f"
      },
      "outputs": [
        {
          "data": {
            "application/vnd.google.colaboratory.intrinsic+json": {
              "type": "string"
            },
            "text/plain": [
              "'1.22.4'"
            ]
          },
          "execution_count": 4,
          "metadata": {},
          "output_type": "execute_result"
        }
      ],
      "source": [
        "import numpy\n",
        "numpy.__version__"
      ]
    },
    {
      "cell_type": "code",
      "execution_count": null,
      "metadata": {
        "colab": {
          "base_uri": "https://localhost:8080/",
          "height": 36
        },
        "id": "M5WJqcmOwFjI",
        "outputId": "3bc9e0d4-5879-4245-c056-65738fe386d1"
      },
      "outputs": [
        {
          "data": {
            "application/vnd.google.colaboratory.intrinsic+json": {
              "type": "string"
            },
            "text/plain": [
              "'1.5.3'"
            ]
          },
          "execution_count": 5,
          "metadata": {},
          "output_type": "execute_result"
        }
      ],
      "source": [
        "import pandas\n",
        "pandas.__version__"
      ]
    },
    {
      "cell_type": "markdown",
      "metadata": {
        "id": "FHUVRzSfz1F6"
      },
      "source": [
        "## 1.1 Access Data"
      ]
    },
    {
      "cell_type": "code",
      "execution_count": null,
      "metadata": {
        "colab": {
          "base_uri": "https://localhost:8080/"
        },
        "id": "2qaY_me2wL3C",
        "outputId": "15477ca4-70b6-4c5d-9bac-72569922f439"
      },
      "outputs": [
        {
          "name": "stdout",
          "output_type": "stream",
          "text": [
            "Mounted at /content/drive\n"
          ]
        }
      ],
      "source": [
        "from google.colab import drive\n",
        "import pandas as pd\n",
        "import os\n",
        "\n",
        "\n",
        "drive.mount('/content/drive')\n",
        "img_data = '/content/drive/MyDrive/GasDetectionImages'"
      ]
    },
    {
      "cell_type": "markdown",
      "metadata": {
        "id": "2sVyGOuO0D0n"
      },
      "source": [
        "## 1.2 Preprocessing Functions"
      ]
    },
    {
      "cell_type": "code",
      "execution_count": null,
      "metadata": {
        "id": "zGTcLT5P0D0q"
      },
      "outputs": [],
      "source": [
        "from sklearn.preprocessing import MinMaxScaler\n",
        "import cv2\n",
        "\n",
        "def preprocess_image(image):\n",
        "    # Convert image colors into gray scale\n",
        "    image = cv2.cvtColor(image, cv2.COLOR_BGR2GRAY)\n",
        "    # Apply Gaussian filter to smooth the image and reduce noise\n",
        "    image = cv2.GaussianBlur(image, (3, 3), 0)\n",
        "    # Apply Laplacian filter to enhance edges\n",
        "    image = cv2.Laplacian(image, cv2.CV_8U, ksize=3)\n",
        "    # Resize image to 64*64\n",
        "    image = cv2.resize(image, (64, 64))\n",
        "    return image\n",
        "\n",
        "#normalization\n",
        "def normalize(X):\n",
        "    scaler = MinMaxScaler()\n",
        "    scaled_X = scaler.fit_transform(X)\n",
        "    return scaled_X"
      ]
    },
    {
      "cell_type": "markdown",
      "metadata": {
        "id": "4Wo5So_c5Z62"
      },
      "source": [
        "## 1.3 Data Construction Functions"
      ]
    },
    {
      "cell_type": "code",
      "execution_count": null,
      "metadata": {
        "id": "Vb1K7CyE5Z7V"
      },
      "outputs": [],
      "source": [
        "import numpy as np\n",
        "\n",
        "categories = ['NoGas', 'Mixture', 'Perfume', 'Smoke']\n",
        "\n",
        "\n",
        "def image_construction():\n",
        "  X, y = [], []\n",
        "  for file_name in os.listdir(img_data):\n",
        "    for j, category in enumerate(categories):\n",
        "        if category in file_name:\n",
        "            image = preprocess_image(cv2.imread(os.path.join(img_data, file_name))).flatten()\n",
        "            X.append(image)\n",
        "            y.append(j)\n",
        "            break\n",
        "  scaled_X = normalize(X)\n",
        "  return scaled_X, np.array(y)\n"
      ]
    },
    {
      "cell_type": "markdown",
      "metadata": {
        "id": "jP8L14DtoCHJ"
      },
      "source": [
        "## 1.4 Data Split Functions"
      ]
    },
    {
      "cell_type": "code",
      "execution_count": null,
      "metadata": {
        "id": "B0mMh7wfoCHz"
      },
      "outputs": [],
      "source": [
        "from sklearn.model_selection import train_test_split\n",
        "\n",
        "def split_data(X,y):\n",
        "  #split the data into training and testing sets\n",
        "  X_train, X_test, y_train, y_test = train_test_split(X,y, test_size=0.2, random_state=42)\n",
        "  return X_train, X_test, y_train, y_test\n",
        "\n",
        "def print_data(X,y, X_train, X_test, y_train, y_test):\n",
        "  print('X', X.shape, ':')\n",
        "  print('\\n',X)\n",
        "  print('\\ny', y.shape,':')\n",
        "  print('\\n',y)\n",
        "  print('\\nX_train:', X_train.shape)\n",
        "  print('X_test:', X_test.shape)\n",
        "  print('y_train:', y_train.shape)\n",
        "  print('y_test:', y_test.shape)\n",
        "  return"
      ]
    },
    {
      "cell_type": "markdown",
      "metadata": {
        "id": "jvZ6TrJistUl"
      },
      "source": [
        "# 2. Evaluation Function"
      ]
    },
    {
      "cell_type": "code",
      "execution_count": null,
      "metadata": {
        "id": "kDRHbY1is0DC"
      },
      "outputs": [],
      "source": [
        "from sklearn.metrics import accuracy_score, classification_report, confusion_matrix\n",
        "\n",
        "def evaluate(y_test, y_pred, model):\n",
        "  accuracy = accuracy_score(y_test, y_pred)\n",
        "  report = classification_report(y_test, y_pred, target_names=categories)\n",
        "\n",
        "  print(\"Model: \", model)\n",
        "  print(\"Classification Report:\")\n",
        "  print(report)\n",
        "  print(\"Confusion Matrix:\")\n",
        "  print('')\n",
        "  print(confusion_matrix(y_test, y_pred))\n",
        "  print('')\n",
        "  print(\"Accuracy:\", accuracy)\n",
        "\n",
        "  #calculate overall recall, f1 score, and precision\n",
        "  report_lines = report.split('\\n')\n",
        "  metrics = report_lines[-2].split()\n",
        "  recall = float(metrics[3])\n",
        "  precision = float(metrics[4])\n",
        "  f1 = float(metrics[2])\n",
        "  print(\"Overall Recall:\", recall)\n",
        "  print(\"Overall Precision:\", precision)\n",
        "  print(\"Overall F1 Score:\", f1)\n",
        "  return"
      ]
    },
    {
      "cell_type": "markdown",
      "metadata": {
        "id": "ZhaLr1tknU9S"
      },
      "source": [
        "# 3. Second Experiment: Image Data Analysis"
      ]
    },
    {
      "cell_type": "markdown",
      "metadata": {
        "id": "uLB9tzCxzn_x"
      },
      "source": [
        "## 3.1 Get Data"
      ]
    },
    {
      "cell_type": "code",
      "execution_count": null,
      "metadata": {
        "colab": {
          "base_uri": "https://localhost:8080/"
        },
        "id": "c5xggE2_zoAf",
        "outputId": "8b53522b-82b1-4535-b274-f99b0e92bc80"
      },
      "outputs": [
        {
          "name": "stdout",
          "output_type": "stream",
          "text": [
            "X (6407, 4096) :\n",
            "\n",
            " [[0.         0.         0.         ... 0.39423077 0.27777778 0.29896907]\n",
            " [0.         0.27272727 0.         ... 0.56730769 0.00925926 0.35051546]\n",
            " [0.         0.         0.         ... 0.         0.         0.        ]\n",
            " ...\n",
            " [1.         0.         0.12195122 ... 0.03846154 0.01851852 0.03092784]\n",
            " [1.         0.27272727 0.14634146 ... 0.125      0.01851852 0.06185567]\n",
            " [0.         0.09090909 0.00813008 ... 0.         0.         0.        ]]\n",
            "\n",
            "y (6407,) :\n",
            "\n",
            " [1 1 1 ... 2 2 2]\n",
            "\n",
            "X_train: (5125, 4096)\n",
            "X_test: (1282, 4096)\n",
            "y_train: (5125,)\n",
            "y_test: (1282,)\n"
          ]
        }
      ],
      "source": [
        "image_X , image_y = image_construction()\n",
        "image_X_train, image_X_test, image_y_train, image_y_test = split_data(image_X,image_y)\n",
        "\n",
        "print_data(image_X , image_y, image_X_train, image_X_test, image_y_train, image_y_test)"
      ]
    },
    {
      "cell_type": "markdown",
      "metadata": {
        "id": "Vb9-GAa-zoAh"
      },
      "source": [
        "## 3.2 Image Classification Models"
      ]
    },
    {
      "cell_type": "markdown",
      "metadata": {
        "id": "X4DJ0ZRzzoAj"
      },
      "source": [
        "### 3.2.1  RF"
      ]
    },
    {
      "cell_type": "code",
      "execution_count": null,
      "metadata": {
        "colab": {
          "background_save": true
        },
        "id": "NU2wwMGwzoAj",
        "outputId": "2b04ee56-a814-4d3a-c80c-bf8572a970dc"
      },
      "outputs": [
        {
          "name": "stdout",
          "output_type": "stream",
          "text": [
            "Best Parameters :  {'bootstrap': True, 'max_depth': None, 'n_estimators': 500} \n",
            "\n",
            "Model:  RF\n",
            "Classification Report:\n",
            "              precision    recall  f1-score   support\n",
            "\n",
            "       NoGas       0.96      0.75      0.84       314\n",
            "     Mixture       1.00      1.00      1.00       347\n",
            "     Perfume       0.88      0.91      0.90       319\n",
            "       Smoke       0.84      1.00      0.91       302\n",
            "\n",
            "    accuracy                           0.92      1282\n",
            "   macro avg       0.92      0.91      0.91      1282\n",
            "weighted avg       0.92      0.92      0.91      1282\n",
            "\n",
            "Confusion Matrix:\n",
            "\n",
            "[[235   0  39  40]\n",
            " [  0 347   0   0]\n",
            " [ 10   0 290  19]\n",
            " [  0   0   0 302]]\n",
            "\n",
            "Accuracy: 0.9157566302652106\n",
            "Overall Recall: 0.92\n",
            "Overall Precision: 0.91\n",
            "Overall F1 Score: 0.92\n"
          ]
        }
      ],
      "source": [
        "from sklearn.model_selection import GridSearchCV\n",
        "from sklearn.ensemble import RandomForestClassifier\n",
        "from joblib import parallel_backend\n",
        "\n",
        "rf_param_grid = {'bootstrap': [True], 'max_depth': [5, 10, None],\n",
        "               'n_estimators': [5, 6, 7, 8, 9, 10, 11, 12,13,15,100,500]}\n",
        "\n",
        "with parallel_backend('multiprocessing'):\n",
        "    rf_model = GridSearchCV(RandomForestClassifier(), rf_param_grid, cv=3, n_jobs=-1)\n",
        "    rf_model.fit(image_X_train, image_y_train)\n",
        "\n",
        "rf_pred = rf_model.predict(image_X_test)\n",
        "\n",
        "print('Best Parameters : ', rf_model.best_params_, '\\n')\n",
        "evaluate(image_y_test, rf_pred, 'RF')"
      ]
    }
  ],
  "metadata": {
    "colab": {
      "provenance": []
    },
    "kernelspec": {
      "display_name": "Python 3",
      "name": "python3"
    },
    "language_info": {
      "name": "python"
    }
  },
  "nbformat": 4,
  "nbformat_minor": 0
}